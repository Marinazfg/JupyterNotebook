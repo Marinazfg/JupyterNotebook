{
 "cells": [
  {
   "cell_type": "markdown",
   "id": "689b3baf-e628-41d0-bb16-b7f81797fe9c",
   "metadata": {},
   "source": [
    "# Data Science tools and Ecosystem\n",
    "\n",
    "In this notebook, Data Science tools and Ecosystem are summarized."
   ]
  },
  {
   "cell_type": "markdown",
   "id": "fa21dc74-fe2a-465e-b113-e393517c8575",
   "metadata": {},
   "source": [
    "Some of the popular languages that Data Scientists use are:\n",
    "+ SQL\n",
    "+ R\n",
    "+ Python"
   ]
  },
  {
   "cell_type": "markdown",
   "id": "faa17a2d-4517-41fe-85a4-88d7490fb1ae",
   "metadata": {},
   "source": []
  },
  {
   "cell_type": "markdown",
   "id": "4da9d42b-e546-4a8e-90c1-98f90354c3b1",
   "metadata": {},
   "source": [
    "Some of the commonly useibraries used by Data Scientists include:\n",
    "1. Nunmpy\n",
    "2. SciPy\n",
    "3. Matplotlib"
   ]
  },
  {
   "cell_type": "code",
   "execution_count": null,
   "id": "6be3b55a-7393-41d4-b935-a6e48e904283",
   "metadata": {},
   "outputs": [],
   "source": []
  },
  {
   "cell_type": "markdown",
   "id": "5ad8448a-2fe5-434a-938a-082e76ddbca8",
   "metadata": {},
   "source": [
    "##\n",
    "| Data Science tools|\n",
    "|-------------------|\n",
    "|Jupyter Notebook|\n",
    "|RStudio|\n",
    "|Spyder|\n",
    "\n"
   ]
  },
  {
   "cell_type": "code",
   "execution_count": null,
   "id": "92b14f70-67d0-407c-9c33-4bcc811f89dc",
   "metadata": {},
   "outputs": [],
   "source": []
  },
  {
   "cell_type": "markdown",
   "id": "ea124bb8-b183-4cd5-865d-62d3a9a65b9d",
   "metadata": {},
   "source": [
    "### Below are a few examples of evaluating arithmetic expressions in Python."
   ]
  },
  {
   "cell_type": "code",
   "execution_count": 29,
   "id": "1301c0bc-308b-45c5-bf1f-24dd3bdb99d1",
   "metadata": {},
   "outputs": [
    {
     "data": {
      "text/plain": [
       "17"
      ]
     },
     "execution_count": 29,
     "metadata": {},
     "output_type": "execute_result"
    }
   ],
   "source": [
    "(3*4)+5"
   ]
  },
  {
   "cell_type": "code",
   "execution_count": 31,
   "id": "e8651563-e1cf-450a-b795-c23adfdb0956",
   "metadata": {},
   "outputs": [],
   "source": [
    "# This a simple arithmetic expression to multiply then add integers.\n"
   ]
  },
  {
   "cell_type": "code",
   "execution_count": null,
   "id": "a4b93e76-b6cd-43a5-89aa-16eb39e551b6",
   "metadata": {},
   "outputs": [],
   "source": []
  },
  {
   "cell_type": "code",
   "execution_count": 33,
   "id": "7e29fc46-a784-407f-9d1e-a4c082f37ae7",
   "metadata": {},
   "outputs": [],
   "source": [
    "# This will convert 200 minutes ti hours by diving by 60."
   ]
  },
  {
   "cell_type": "code",
   "execution_count": 35,
   "id": "2c60f7a1-8859-4576-a537-3192652857ef",
   "metadata": {},
   "outputs": [
    {
     "data": {
      "text/plain": [
       "33.333333333333336"
      ]
     },
     "execution_count": 35,
     "metadata": {},
     "output_type": "execute_result"
    }
   ],
   "source": [
    "200/6"
   ]
  },
  {
   "cell_type": "code",
   "execution_count": null,
   "id": "c5c1d82e-9263-491c-ba54-2c0b70d7bbee",
   "metadata": {},
   "outputs": [],
   "source": []
  },
  {
   "cell_type": "markdown",
   "id": "7c908f4b-86c7-480c-8ef3-9bd6869e7c96",
   "metadata": {},
   "source": [
    "***Objectives***"
   ]
  },
  {
   "cell_type": "markdown",
   "id": "bc9a244f-8b8d-45af-95da-d23a236510f9",
   "metadata": {},
   "source": [
    "- List popular languages for Data Science\n",
    "- List commonly used libraries for Data Science\n",
    "- List open source Data Science Tools for Data Science"
   ]
  },
  {
   "cell_type": "code",
   "execution_count": null,
   "id": "c34e6d54-4123-4252-a818-cdec728272cc",
   "metadata": {},
   "outputs": [],
   "source": []
  },
  {
   "cell_type": "markdown",
   "id": "79051489-c346-4b3b-b908-5cfb902e7951",
   "metadata": {},
   "source": [
    "## Author\n",
    "Marina Zafra Granados"
   ]
  },
  {
   "cell_type": "code",
   "execution_count": null,
   "id": "650d6a74-7688-4897-9b37-ae881a115e89",
   "metadata": {},
   "outputs": [],
   "source": []
  }
 ],
 "metadata": {
  "kernelspec": {
   "display_name": "Python 3 (ipykernel)",
   "language": "python",
   "name": "python3"
  },
  "language_info": {
   "codemirror_mode": {
    "name": "ipython",
    "version": 3
   },
   "file_extension": ".py",
   "mimetype": "text/x-python",
   "name": "python",
   "nbconvert_exporter": "python",
   "pygments_lexer": "ipython3",
   "version": "3.12.4"
  }
 },
 "nbformat": 4,
 "nbformat_minor": 5
}
